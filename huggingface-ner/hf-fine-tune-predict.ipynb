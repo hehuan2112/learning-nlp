{
 "cells": [
  {
   "cell_type": "markdown",
   "id": "ac6aa0da",
   "metadata": {},
   "source": [
    "# HuggingFace Fine-Tuning NER model"
   ]
  },
  {
   "cell_type": "code",
   "execution_count": null,
   "id": "269695d8",
   "metadata": {},
   "outputs": [],
   "source": [
    "from pathlib import Path\n",
    "import re\n",
    "import sys\n",
    "import random\n",
    "\n",
    "import numpy as np\n",
    "from sklearn.model_selection import train_test_split\n",
    "import torch\n",
    "\n",
    "from transformers import pipeline\n",
    "from transformers import AutoTokenizer\n",
    "from transformers import AutoModelForTokenClassification\n",
    "from transformers import Trainer\n",
    "from transformers import TrainingArguments\n",
    "\n",
    "from datasets import load_metric\n",
    "\n",
    "from spacy import displacy\n",
    "\n",
    "print('* loaded all libs')"
   ]
  },
  {
   "cell_type": "markdown",
   "id": "28277334",
   "metadata": {},
   "source": [
    "## Pre-processing the dataset"
   ]
  },
  {
   "cell_type": "code",
   "execution_count": 13,
   "id": "e3b8bbc8",
   "metadata": {},
   "outputs": [],
   "source": [
    "dataset_fn = 'dataset.tsv'\n",
    "test_size = 0.2\n",
    "model_name = 'distilbert-base-cased'\n",
    "fine_tuned_model_path = \"./fine-tuned-model/covid19_symp_model\"\n",
    "output_dir = './results'"
   ]
  },
  {
   "cell_type": "code",
   "execution_count": 8,
   "id": "3b8657a4",
   "metadata": {},
   "outputs": [
    {
     "name": "stdout",
     "output_type": "stream",
     "text": [
      "* train texts:  129\n",
      "* unique tags:  5\n",
      "* tags:  ['B-TREATMENT', 'B-SYMP', 'O', 'I-TREATMENT', 'I-SYMP']\n",
      "* created dataset for training\n"
     ]
    }
   ],
   "source": [
    "def read_dataset(file_path):\n",
    "    file_path = Path(file_path)\n",
    "\n",
    "    raw_text = file_path.read_text().strip()\n",
    "    raw_docs = re.split(r'\\n\\t?\\n', raw_text)\n",
    "    token_docs = []\n",
    "    tag_docs = []\n",
    "    for doc in raw_docs:\n",
    "        tokens = []\n",
    "        tags = []\n",
    "        for line in doc.split('\\n'):\n",
    "            token, tag = line.split('\\t')\n",
    "            tokens.append(token)\n",
    "            tags.append(tag)\n",
    "        token_docs.append(tokens)\n",
    "        tag_docs.append(tags)\n",
    "\n",
    "    return token_docs, tag_docs\n",
    "\n",
    "\n",
    "def encode_tags(tags, encodings):\n",
    "    labels = [[tag2id[tag] for tag in doc] for doc in tags]\n",
    "    encoded_labels = []\n",
    "    for doc_labels, doc_offset in zip(labels, encodings.offset_mapping):\n",
    "        # create an empty array of -100\n",
    "        doc_enc_labels = np.ones(len(doc_offset),dtype=int) * -100\n",
    "        arr_offset = np.array(doc_offset)\n",
    "\n",
    "        # set labels whose first offset position is 0 and the second is not 0\n",
    "        doc_enc_labels[(arr_offset[:,0] == 0) & (arr_offset[:,1] != 0)] = doc_labels\n",
    "        encoded_labels.append(doc_enc_labels.tolist())\n",
    "\n",
    "    return encoded_labels\n",
    "\n",
    "\n",
    "class MyDataset(torch.utils.data.Dataset):\n",
    "    def __init__(self, encodings, labels):\n",
    "        self.encodings = encodings\n",
    "        self.labels = labels\n",
    "\n",
    "    def __getitem__(self, idx):\n",
    "        item = {key: torch.tensor(val[idx]) for key, val in self.encodings.items()}\n",
    "        item['labels'] = torch.tensor(self.labels[idx])\n",
    "        return item\n",
    "\n",
    "    def __len__(self):\n",
    "        return len(self.labels)\n",
    "\n",
    "tokenizer = AutoTokenizer.from_pretrained(model_name)\n",
    "\n",
    "# parse the texts and tags\n",
    "texts, tags = read_dataset(dataset_fn)\n",
    "\n",
    "# split into train val\n",
    "train_texts, val_texts, train_tags, val_tags = train_test_split(texts, tags, test_size=test_size)\n",
    "\n",
    "# Next, let’s create encodings for our tokens and tags. \n",
    "# For the tags, we can start by just create a simple mapping which we’ll use in a moment:\n",
    "unique_tags = set(tag for doc in tags for tag in doc)\n",
    "label_list = list(unique_tags)\n",
    "tag2id = {tag: id for id, tag in enumerate(unique_tags)}\n",
    "id2tag = {id: tag for tag, id in tag2id.items()}\n",
    "\n",
    "print('* train texts: ', len(train_texts))\n",
    "print('* unique tags: ', len(unique_tags))\n",
    "print('* tags: ', label_list)\n",
    "\n",
    "# get encodings\n",
    "train_encodings = tokenizer(\n",
    "    train_texts, \n",
    "    is_split_into_words=True, \n",
    "    return_offsets_mapping=True, \n",
    "    padding=True, \n",
    "    truncation=True\n",
    ")\n",
    "val_encodings = tokenizer(\n",
    "    val_texts, \n",
    "    is_split_into_words=True, \n",
    "    return_offsets_mapping=True, \n",
    "    padding=True, \n",
    "    truncation=True\n",
    ")\n",
    "\n",
    "# get labels\n",
    "train_labels = encode_tags(train_tags, train_encodings)\n",
    "val_labels = encode_tags(val_tags, val_encodings)\n",
    "\n",
    "# get datasets\n",
    "# we don't want to pass this to the model\n",
    "train_encodings.pop(\"offset_mapping\") \n",
    "val_encodings.pop(\"offset_mapping\")\n",
    "\n",
    "train_dataset = MyDataset(train_encodings, train_labels)\n",
    "val_dataset = MyDataset(val_encodings, val_labels)\n",
    "\n",
    "print('* created dataset for training')"
   ]
  },
  {
   "cell_type": "markdown",
   "id": "a0d2a0fb",
   "metadata": {},
   "source": [
    "## Fine-tuning the model"
   ]
  },
  {
   "cell_type": "code",
   "execution_count": null,
   "id": "5957c2c4",
   "metadata": {},
   "outputs": [],
   "source": [
    "training_args = TrainingArguments(\n",
    "    output_dir=output_dir,           # output directory\n",
    "    num_train_epochs=25,             # total number of training epochs\n",
    "    per_device_train_batch_size=16,  # batch size per device during training\n",
    "    per_device_eval_batch_size=64,   # batch size for evaluation\n",
    "    warmup_steps=500,                # number of warmup steps for learning rate scheduler\n",
    "    weight_decay=0.01,               # strength of weight decay\n",
    "    logging_dir='./logs',            # directory for storing logs\n",
    "    logging_steps=10,\n",
    ")\n",
    "\n",
    "model = AutoModelForTokenClassification.from_pretrained(\n",
    "    model_name, \n",
    "    num_labels=len(unique_tags), \n",
    "    id2label=id2tag, \n",
    "    label2id=tag2id\n",
    ")\n",
    "\n",
    "metric = load_metric(\"seqeval\")\n",
    "return_entity_level_metrics = True\n",
    "def compute_metrics(p):\n",
    "    predictions, labels = p\n",
    "    predictions = np.argmax(predictions, axis=2)\n",
    "\n",
    "    # Remove ignored index (special tokens)\n",
    "    true_predictions = [\n",
    "        [label_list[p] for (p, l) in zip(prediction, label) if l != -100]\n",
    "        for prediction, label in zip(predictions, labels)\n",
    "    ]\n",
    "    true_labels = [\n",
    "        [label_list[l] for (p, l) in zip(prediction, label) if l != -100]\n",
    "        for prediction, label in zip(predictions, labels)\n",
    "    ]\n",
    "\n",
    "    results = metric.compute(predictions=true_predictions, references=true_labels)\n",
    "    if return_entity_level_metrics:\n",
    "        # Unpack nested dictionaries\n",
    "        final_results = {}\n",
    "        for key, value in results.items():\n",
    "            if isinstance(value, dict):\n",
    "                for n, v in value.items():\n",
    "                    final_results[f\"{key}_{n}\"] = v\n",
    "            else:\n",
    "                final_results[key] = value\n",
    "        return final_results\n",
    "    else:\n",
    "        return {\n",
    "            \"precision\": results[\"overall_precision\"],\n",
    "            \"recall\": results[\"overall_recall\"],\n",
    "            \"f1\": results[\"overall_f1\"],\n",
    "            \"accuracy\": results[\"overall_accuracy\"],\n",
    "        }\n",
    "\n",
    "trainer = Trainer(\n",
    "    model=model,                         # the instantiated 🤗 Transformers model to be trained\n",
    "    args=training_args,                  # training arguments, defined above\n",
    "    train_dataset=train_dataset,         # training dataset\n",
    "    eval_dataset=val_dataset,             # evaluation dataset\n",
    "    compute_metrics=compute_metrics\n",
    ")\n",
    "\n",
    "trainer.train()\n",
    "print(trainer.evaluate())\n",
    "\n",
    "# save the model\n",
    "model.save_pretrained(fine_tuned_model_path)\n",
    "print('* done fine-tuning and saved the fine-tuned model')"
   ]
  },
  {
   "cell_type": "markdown",
   "id": "25ef228e",
   "metadata": {},
   "source": [
    "## Predict"
   ]
  },
  {
   "cell_type": "code",
   "execution_count": 10,
   "id": "1857c2dc",
   "metadata": {},
   "outputs": [
    {
     "name": "stdout",
     "output_type": "stream",
     "text": [
      "* loaded the fine-turned model and tokenizer\n"
     ]
    }
   ],
   "source": [
    "# if we have a pre-trained model we could just load it\n",
    "model = AutoModelForTokenClassification.from_pretrained(fine_tuned_model_path)\n",
    "tokenizer = AutoTokenizer.from_pretrained(model_name)\n",
    "print('* loaded the fine-turned model and tokenizer')"
   ]
  },
  {
   "cell_type": "code",
   "execution_count": 12,
   "id": "ca560641",
   "metadata": {},
   "outputs": [
    {
     "data": {
      "text/html": [
       "<span class=\"tex2jax_ignore\"><div class=\"entities\" style=\"line-height: 2.5; direction: ltr\">I was feeling bad all over about 7 pm \n",
       "<mark class=\"entity\" style=\"background: linear-gradient(90deg, #CFA8AD, #DDC99A); padding: 0.45em 0.6em; margin: 0 0.25em; line-height: 1; border-radius: 0.35em;\">\n",
       "    aching\n",
       "    <span style=\"font-size: 0.8em; font-weight: bold; line-height: 1; border-radius: 0.35em; vertical-align: middle; margin-left: 0.5rem\">SYMP</span>\n",
       "</mark>\n",
       " and \n",
       "<mark class=\"entity\" style=\"background: linear-gradient(90deg, #CFA8AD, #DDC99A); padding: 0.45em 0.6em; margin: 0 0.25em; line-height: 1; border-radius: 0.35em;\">\n",
       "    chills\n",
       "    <span style=\"font-size: 0.8em; font-weight: bold; line-height: 1; border-radius: 0.35em; vertical-align: middle; margin-left: 0.5rem\">SYMP</span>\n",
       "</mark>\n",
       " all over, and got \n",
       "<mark class=\"entity\" style=\"background: linear-gradient(90deg, #CFA8AD, #DDC99A); padding: 0.45em 0.6em; margin: 0 0.25em; line-height: 1; border-radius: 0.35em;\">\n",
       "    nausea\n",
       "    <span style=\"font-size: 0.8em; font-weight: bold; line-height: 1; border-radius: 0.35em; vertical-align: middle; margin-left: 0.5rem\">SYMP</span>\n",
       "</mark>\n",
       " and extreme \n",
       "<mark class=\"entity\" style=\"background: linear-gradient(90deg, #CFA8AD, #DDC99A); padding: 0.45em 0.6em; margin: 0 0.25em; line-height: 1; border-radius: 0.35em;\">\n",
       "    headache\n",
       "    <span style=\"font-size: 0.8em; font-weight: bold; line-height: 1; border-radius: 0.35em; vertical-align: middle; margin-left: 0.5rem\">SYMP</span>\n",
       "</mark>\n",
       "</div></span>"
      ],
      "text/plain": [
       "<IPython.core.display.HTML object>"
      ]
     },
     "metadata": {},
     "output_type": "display_data"
    },
    {
     "name": "stdout",
     "output_type": "stream",
     "text": [
      "------------------------------------------------------------\n"
     ]
    },
    {
     "data": {
      "text/html": [
       "<span class=\"tex2jax_ignore\"><div class=\"entities\" style=\"line-height: 2.5; direction: ltr\">\n",
       "<mark class=\"entity\" style=\"background: linear-gradient(90deg, #BEBDCD, #8F8DFE); padding: 0.45em 0.6em; margin: 0 0.25em; line-height: 1; border-radius: 0.35em;\">\n",
       "    Moderna\n",
       "    <span style=\"font-size: 0.8em; font-weight: bold; line-height: 1; border-radius: 0.35em; vertical-align: middle; margin-left: 0.5rem\">TREATMENT</span>\n",
       "</mark>\n",
       " Covid-19 \n",
       "<mark class=\"entity\" style=\"background: linear-gradient(90deg, #BEBDCD, #8F8DFE); padding: 0.45em 0.6em; margin: 0 0.25em; line-height: 1; border-radius: 0.35em;\">\n",
       "    vaccine\n",
       "    <span style=\"font-size: 0.8em; font-weight: bold; line-height: 1; border-radius: 0.35em; vertical-align: middle; margin-left: 0.5rem\">TREATMENT</span>\n",
       "</mark>\n",
       " EUA \n",
       "<mark class=\"entity\" style=\"background: linear-gradient(90deg, #CFA8AD, #DDC99A); padding: 0.45em 0.6em; margin: 0 0.25em; line-height: 1; border-radius: 0.35em;\">\n",
       "    Soreness\n",
       "    <span style=\"font-size: 0.8em; font-weight: bold; line-height: 1; border-radius: 0.35em; vertical-align: middle; margin-left: 0.5rem\">SYMP</span>\n",
       "</mark>\n",
       " at the injection site, \n",
       "<mark class=\"entity\" style=\"background: linear-gradient(90deg, #CFA8AD, #DDC99A); padding: 0.45em 0.6em; margin: 0 0.25em; line-height: 1; border-radius: 0.35em;\">\n",
       "    body aches\n",
       "    <span style=\"font-size: 0.8em; font-weight: bold; line-height: 1; border-radius: 0.35em; vertical-align: middle; margin-left: 0.5rem\">SYMP</span>\n",
       "</mark>\n",
       ", \n",
       "<mark class=\"entity\" style=\"background: linear-gradient(90deg, #CFA8AD, #DDC99A); padding: 0.45em 0.6em; margin: 0 0.25em; line-height: 1; border-radius: 0.35em;\">\n",
       "    chills\n",
       "    <span style=\"font-size: 0.8em; font-weight: bold; line-height: 1; border-radius: 0.35em; vertical-align: middle; margin-left: 0.5rem\">SYMP</span>\n",
       "</mark>\n",
       ", \n",
       "<mark class=\"entity\" style=\"background: linear-gradient(90deg, #CFA8AD, #DDC99A); padding: 0.45em 0.6em; margin: 0 0.25em; line-height: 1; border-radius: 0.35em;\">\n",
       "    fatigue Treated\n",
       "    <span style=\"font-size: 0.8em; font-weight: bold; line-height: 1; border-radius: 0.35em; vertical-align: middle; margin-left: 0.5rem\">SYMP</span>\n",
       "</mark>\n",
       " effectively with \n",
       "<mark class=\"entity\" style=\"background: linear-gradient(90deg, #BEBDCD, #8F8DFE); padding: 0.45em 0.6em; margin: 0 0.25em; line-height: 1; border-radius: 0.35em;\">\n",
       "    ibuprofen\n",
       "    <span style=\"font-size: 0.8em; font-weight: bold; line-height: 1; border-radius: 0.35em; vertical-align: middle; margin-left: 0.5rem\">TREATMENT</span>\n",
       "</mark>\n",
       "</div></span>"
      ],
      "text/plain": [
       "<IPython.core.display.HTML object>"
      ]
     },
     "metadata": {},
     "output_type": "display_data"
    },
    {
     "name": "stdout",
     "output_type": "stream",
     "text": [
      "------------------------------------------------------------\n"
     ]
    },
    {
     "data": {
      "text/html": [
       "<span class=\"tex2jax_ignore\"><div class=\"entities\" style=\"line-height: 2.5; direction: ltr\">Lightheaded immediately and almost passed out.  Felt a \n",
       "<mark class=\"entity\" style=\"background: linear-gradient(90deg, #CFA8AD, #DDC99A); padding: 0.45em 0.6em; margin: 0 0.25em; line-height: 1; border-radius: 0.35em;\">\n",
       "    tingling\n",
       "    <span style=\"font-size: 0.8em; font-weight: bold; line-height: 1; border-radius: 0.35em; vertical-align: middle; margin-left: 0.5rem\">SYMP</span>\n",
       "</mark>\n",
       " in both hands.</div></span>"
      ],
      "text/plain": [
       "<IPython.core.display.HTML object>"
      ]
     },
     "metadata": {},
     "output_type": "display_data"
    },
    {
     "name": "stdout",
     "output_type": "stream",
     "text": [
      "------------------------------------------------------------\n"
     ]
    },
    {
     "data": {
      "text/html": [
       "<span class=\"tex2jax_ignore\"><div class=\"entities\" style=\"line-height: 2.5; direction: ltr\">\n",
       "<mark class=\"entity\" style=\"background: linear-gradient(90deg, #CFA8AD, #DDC99A); padding: 0.45em 0.6em; margin: 0 0.25em; line-height: 1; border-radius: 0.35em;\">\n",
       "    Metallic\n",
       "    <span style=\"font-size: 0.8em; font-weight: bold; line-height: 1; border-radius: 0.35em; vertical-align: middle; margin-left: 0.5rem\">SYMP</span>\n",
       "</mark>\n",
       " taste in mouth for about an hour.  8 hours later had the \n",
       "<mark class=\"entity\" style=\"background: linear-gradient(90deg, #CFA8AD, #DDC99A); padding: 0.45em 0.6em; margin: 0 0.25em; line-height: 1; border-radius: 0.35em;\">\n",
       "    chills\n",
       "    <span style=\"font-size: 0.8em; font-weight: bold; line-height: 1; border-radius: 0.35em; vertical-align: middle; margin-left: 0.5rem\">SYMP</span>\n",
       "</mark>\n",
       ", \n",
       "<mark class=\"entity\" style=\"background: linear-gradient(90deg, #CFA8AD, #DDC99A); padding: 0.45em 0.6em; margin: 0 0.25em; line-height: 1; border-radius: 0.35em;\">\n",
       "    body aches\n",
       "    <span style=\"font-size: 0.8em; font-weight: bold; line-height: 1; border-radius: 0.35em; vertical-align: middle; margin-left: 0.5rem\">SYMP</span>\n",
       "</mark>\n",
       ", \n",
       "<mark class=\"entity\" style=\"background: linear-gradient(90deg, #CFA8AD, #DDC99A); padding: 0.45em 0.6em; margin: 0 0.25em; line-height: 1; border-radius: 0.35em;\">\n",
       "    headache\n",
       "    <span style=\"font-size: 0.8em; font-weight: bold; line-height: 1; border-radius: 0.35em; vertical-align: middle; margin-left: 0.5rem\">SYMP</span>\n",
       "</mark>\n",
       ", \n",
       "<mark class=\"entity\" style=\"background: linear-gradient(90deg, #CFA8AD, #DDC99A); padding: 0.45em 0.6em; margin: 0 0.25em; line-height: 1; border-radius: 0.35em;\">\n",
       "    sinus pressure\n",
       "    <span style=\"font-size: 0.8em; font-weight: bold; line-height: 1; border-radius: 0.35em; vertical-align: middle; margin-left: 0.5rem\">SYMP</span>\n",
       "</mark>\n",
       ", and blocked ears.</div></span>"
      ],
      "text/plain": [
       "<IPython.core.display.HTML object>"
      ]
     },
     "metadata": {},
     "output_type": "display_data"
    },
    {
     "name": "stdout",
     "output_type": "stream",
     "text": [
      "------------------------------------------------------------\n"
     ]
    },
    {
     "data": {
      "text/html": [
       "<span class=\"tex2jax_ignore\"><div class=\"entities\" style=\"line-height: 2.5; direction: ltr\">I feel \n",
       "<mark class=\"entity\" style=\"background: linear-gradient(90deg, #CFA8AD, #DDC99A); padding: 0.45em 0.6em; margin: 0 0.25em; line-height: 1; border-radius: 0.35em;\">\n",
       "    head is ache\n",
       "    <span style=\"font-size: 0.8em; font-weight: bold; line-height: 1; border-radius: 0.35em; vertical-align: middle; margin-left: 0.5rem\">SYMP</span>\n",
       "</mark>\n",
       " and have some kind of \n",
       "<mark class=\"entity\" style=\"background: linear-gradient(90deg, #CFA8AD, #DDC99A); padding: 0.45em 0.6em; margin: 0 0.25em; line-height: 1; border-radius: 0.35em;\">\n",
       "    breathing issue\n",
       "    <span style=\"font-size: 0.8em; font-weight: bold; line-height: 1; border-radius: 0.35em; vertical-align: middle; margin-left: 0.5rem\">SYMP</span>\n",
       "</mark>\n",
       ", but I don't take any \n",
       "<mark class=\"entity\" style=\"background: linear-gradient(90deg, #BEBDCD, #8F8DFE); padding: 0.45em 0.6em; margin: 0 0.25em; line-height: 1; border-radius: 0.35em;\">\n",
       "    aspirin\n",
       "    <span style=\"font-size: 0.8em; font-weight: bold; line-height: 1; border-radius: 0.35em; vertical-align: middle; margin-left: 0.5rem\">TREATMENT</span>\n",
       "</mark>\n",
       "</div></span>"
      ],
      "text/plain": [
       "<IPython.core.display.HTML object>"
      ]
     },
     "metadata": {},
     "output_type": "display_data"
    },
    {
     "name": "stdout",
     "output_type": "stream",
     "text": [
      "------------------------------------------------------------\n"
     ]
    }
   ],
   "source": [
    "# the default result doesn't group the entities\n",
    "# so we need to specify the `aggregation_strategy` to group the entity for display\n",
    "nlp = pipeline('ner', model=model, tokenizer=tokenizer, aggregation_strategy='first')\n",
    "\n",
    "texts = [\n",
    "    \"I was feeling bad all over about 7 pm aching and chills all over, and got nausea and extreme headache\",\n",
    "    \"Moderna Covid-19 vaccine EUA Soreness at the injection site, body aches, chills, fatigue Treated effectively with ibuprofen\",\n",
    "    \"Lightheaded immediately and almost passed out.  Felt a tingling in both hands.\",\n",
    "    \"Metallic taste in mouth for about an hour.  8 hours later had the chills, body aches, headache, sinus pressure, and blocked ears.\",\n",
    "    \"I feel head is ache and have some kind of breathing issue, but I don't take any aspirin\"\n",
    "]\n",
    "\n",
    "# for showing the tags\n",
    "get_color = lambda: \"#\"+''.join([random.choice('89ABCDEF') for j in range(6)])\n",
    "\n",
    "# for spacy display\n",
    "options = {\"ents\": [], \"colors\": {}}\n",
    "for label in label_list:\n",
    "    if label == 'O': continue\n",
    "    ent = label[2:]\n",
    "    if ent in options['ents']: continue\n",
    "        \n",
    "    options['ents'].append(ent)\n",
    "    color = \"linear-gradient(90deg, %s, %s)\" % (get_color(), get_color())\n",
    "    options['colors'][ent] = color\n",
    "\n",
    "# predict each text\n",
    "for i,text in enumerate(texts):\n",
    "    result = nlp(text)\n",
    "    doc = {\n",
    "        \"text\": text,\n",
    "        \"ents\": []\n",
    "    }\n",
    "    for ent in result:\n",
    "        doc['ents'].append({\n",
    "            'start': ent['start'], \n",
    "            'end': ent['end'], \n",
    "            'label': ent['entity_group']\n",
    "        })\n",
    "        \n",
    "    displacy.render([doc], style='ent', manual=True, options=options)\n",
    "    print('-'*60)"
   ]
  }
 ],
 "metadata": {
  "kernelspec": {
   "display_name": "Python 3 (ipykernel)",
   "language": "python",
   "name": "python3"
  },
  "language_info": {
   "codemirror_mode": {
    "name": "ipython",
    "version": 3
   },
   "file_extension": ".py",
   "mimetype": "text/x-python",
   "name": "python",
   "nbconvert_exporter": "python",
   "pygments_lexer": "ipython3",
   "version": "3.7.12"
  }
 },
 "nbformat": 4,
 "nbformat_minor": 5
}
